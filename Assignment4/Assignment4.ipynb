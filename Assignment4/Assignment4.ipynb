{
 "cells": [
  {
   "cell_type": "markdown",
   "id": "b82d80e1",
   "metadata": {},
   "source": [
    "Numpy"
   ]
  },
  {
   "cell_type": "code",
   "execution_count": 12,
   "id": "7dabcab0",
   "metadata": {},
   "outputs": [
    {
     "name": "stdout",
     "output_type": "stream",
     "text": [
      "[12 23 44]\n"
     ]
    }
   ],
   "source": [
    "#1.Create a 1D array from a list.\n",
    "import numpy as np\n",
    "cr = np.array((12,23,44))\n",
    "print(cr)"
   ]
  },
  {
   "cell_type": "code",
   "execution_count": 16,
   "id": "1de58fdf",
   "metadata": {},
   "outputs": [
    {
     "name": "stdout",
     "output_type": "stream",
     "text": [
      "[[0. 0. 0.]\n",
      " [0. 0. 0.]\n",
      " [0. 0. 0.]]\n"
     ]
    }
   ],
   "source": [
    "#2. Create a 3x3 array of zeros.\n",
    "import numpy as np\n",
    "cr = np.zeros((3,3))\n",
    "print(cr)"
   ]
  },
  {
   "cell_type": "code",
   "execution_count": 18,
   "id": "b72928ed",
   "metadata": {},
   "outputs": [
    {
     "name": "stdout",
     "output_type": "stream",
     "text": [
      "[[1. 1.]\n",
      " [1. 1.]]\n"
     ]
    }
   ],
   "source": [
    "# 3. Create a 2x2 array of ones.\n",
    "import numpy as np\n",
    "cr = np.ones((2,2))\n",
    "print(cr)"
   ]
  },
  {
   "cell_type": "code",
   "execution_count": 20,
   "id": "b674a68d",
   "metadata": {},
   "outputs": [
    {
     "name": "stdout",
     "output_type": "stream",
     "text": [
      "[ 0  1  2  3  4  5  6  7  8  9 10]\n"
     ]
    }
   ],
   "source": [
    "#4. Generate array from 0 to 10 (exclusive).\n",
    "import numpy as np\n",
    "cr = np.arange(0,11,1)\n",
    "print(cr)"
   ]
  },
  {
   "cell_type": "code",
   "execution_count": 22,
   "id": "2ecdb2b6",
   "metadata": {},
   "outputs": [
    {
     "name": "stdout",
     "output_type": "stream",
     "text": [
      "[0.   0.25 0.5  0.75 1.  ]\n"
     ]
    }
   ],
   "source": [
    "#5. Create 5 evenly spaced numbers between 0 and 1.\n",
    "import numpy as np\n",
    "cr = np.linspace(0,1,5)\n",
    "print(cr)"
   ]
  },
  {
   "cell_type": "code",
   "execution_count": 23,
   "id": "bb4f6dcd",
   "metadata": {},
   "outputs": [
    {
     "name": "stdout",
     "output_type": "stream",
     "text": [
      "[[1. 0. 0. 0.]\n",
      " [0. 1. 0. 0.]\n",
      " [0. 0. 1. 0.]\n",
      " [0. 0. 0. 1.]]\n"
     ]
    }
   ],
   "source": [
    "#6. Create a 4x4 identity matrix.\n",
    "import numpy as np\n",
    "cr = np.eye(4)\n",
    "print(cr)"
   ]
  },
  {
   "cell_type": "code",
   "execution_count": 26,
   "id": "13a34b6f",
   "metadata": {},
   "outputs": [
    {
     "name": "stdout",
     "output_type": "stream",
     "text": [
      "[[12 23]\n",
      " [44 56]]\n"
     ]
    }
   ],
   "source": [
    "#7. Reshape 1D array to 2D.\n",
    "import numpy as np\n",
    "cr = np.array((12,23,44,56))\n",
    "cr.resize((2,2))\n",
    "print(cr)"
   ]
  },
  {
   "cell_type": "code",
   "execution_count": 77,
   "id": "71f04f75",
   "metadata": {},
   "outputs": [
    {
     "name": "stdout",
     "output_type": "stream",
     "text": [
      "(4,) \n",
      "\n",
      " int64\n"
     ]
    }
   ],
   "source": [
    "#8. Get the shape and dtype of an array.\n",
    "import numpy as np\n",
    "cr = np.array((12,23,44,56))\n",
    "print(cr.shape ,\"\\n\\n\",cr.dtype)"
   ]
  },
  {
   "cell_type": "code",
   "execution_count": 30,
   "id": "a273e340",
   "metadata": {},
   "outputs": [
    {
     "name": "stdout",
     "output_type": "stream",
     "text": [
      "[45 34 23 12]\n"
     ]
    }
   ],
   "source": [
    "#9. Reverse a NumPy array.\n",
    "import numpy as np\n",
    "cr = np.array((12,23,34,45))\n",
    "print(cr[::-1])"
   ]
  },
  {
   "cell_type": "code",
   "execution_count": 32,
   "id": "fe13cb8d",
   "metadata": {},
   "outputs": [
    {
     "name": "stdout",
     "output_type": "stream",
     "text": [
      "12 34 "
     ]
    }
   ],
   "source": [
    "#10. Extract even numbers from an array.\n",
    "import numpy as np\n",
    "cr = np.array((12,23,34,45))\n",
    "for i in cr:\n",
    "    if i%2 == 0:\n",
    "        print(i,end=\" \")"
   ]
  },
  {
   "cell_type": "code",
   "execution_count": 41,
   "id": "adaaacd7",
   "metadata": {},
   "outputs": [
    {
     "name": "stdout",
     "output_type": "stream",
     "text": [
      "45   77   88\n"
     ]
    }
   ],
   "source": [
    "# 11. Find the max in each row.\n",
    "import numpy as np\n",
    "cr = np.array([(12,23,45),\n",
    "               (34,45,77),\n",
    "               (88,76,44)])\n",
    "x,y,z = np.split(cr,3)\n",
    "print(x.max () , \" \" , y.max(), \" \" , z.max())"
   ]
  },
  {
   "cell_type": "code",
   "execution_count": 48,
   "id": "26a98b27",
   "metadata": {},
   "outputs": [
    {
     "name": "stdout",
     "output_type": "stream",
     "text": [
      "Mean is  24.0 \n",
      "Standard Deviation is  14.212670403551895 \n",
      "Median is  23.0\n"
     ]
    }
   ],
   "source": [
    "#12. Compute the mean, std, and median of an array.\n",
    "import numpy as np\n",
    "cr = np.array((12,23,6,34,45))\n",
    "print(\"Mean is \" , cr.mean(), \"\\nStandard Deviation is \",cr.std(),\"\\nMedian is \",np.median(cr))"
   ]
  },
  {
   "cell_type": "code",
   "execution_count": 50,
   "id": "2239c263",
   "metadata": {},
   "outputs": [
    {
     "name": "stdout",
     "output_type": "stream",
     "text": [
      "[[12 23 34]\n",
      " [45 56 78]]\n"
     ]
    }
   ],
   "source": [
    "# 13. Stack two arrays vertically.\n",
    "import numpy as np\n",
    "cr = np.array((12,23,34))\n",
    "cr1 = np.array((45,56,78))\n",
    "vertical_stack = np.vstack((cr,cr1))\n",
    "print(vertical_stack)"
   ]
  },
  {
   "cell_type": "code",
   "execution_count": 51,
   "id": "ab020b63",
   "metadata": {},
   "outputs": [
    {
     "name": "stdout",
     "output_type": "stream",
     "text": [
      "[12 23 34 45 56 78]\n"
     ]
    }
   ],
   "source": [
    "# 14. Stack two arrays horizontally.\n",
    "import numpy as np\n",
    "cr = np.array((12,23,34))\n",
    "cr1 = np.array((45,56,78))\n",
    "horizontal_stack = np.hstack((cr,cr1))\n",
    "print(horizontal_stack)"
   ]
  },
  {
   "cell_type": "code",
   "execution_count": 52,
   "id": "4cbcdbe4",
   "metadata": {},
   "outputs": [
    {
     "name": "stdout",
     "output_type": "stream",
     "text": [
      "[12 23 34 45 56 78]\n"
     ]
    }
   ],
   "source": [
    "# 15. Stack two arrays horizontally.\n",
    "import numpy as np\n",
    "cr = np.array((12,23,34))\n",
    "cr1 = np.array((45,56,78))\n",
    "horizontal_stack = np.hstack((cr,cr1))\n",
    "print(horizontal_stack)"
   ]
  },
  {
   "cell_type": "code",
   "execution_count": null,
   "id": "aa71e6cc",
   "metadata": {},
   "outputs": [
    {
     "name": "stdout",
     "output_type": "stream",
     "text": [
      "Values are  [12 22 33 44 55] and their Counts are  [2 1 1 1 3]\n"
     ]
    }
   ],
   "source": [
    "#16. Find the unique values and their counts.\n",
    "import numpy as np\n",
    "cr = np.array((12,12,22,33,44,55,55,55))\n",
    "values , counts = np.unique(cr,return_counts=True)\n",
    "print(\"Values are \",values , \"and their Counts are \",counts)"
   ]
  },
  {
   "cell_type": "code",
   "execution_count": 1,
   "id": "14ee006e",
   "metadata": {},
   "outputs": [
    {
     "name": "stdout",
     "output_type": "stream",
     "text": [
      "[[1.  2.  7.5]\n",
      " [4.  5.  6. ]\n",
      " [7.  8.  9. ]]\n"
     ]
    }
   ],
   "source": [
    "#17.Replace NaN with column means.\n",
    "import numpy as np\n",
    "data = np.array([[1, 2, np.nan],\n",
    "                 [4, np.nan, 6],\n",
    "                 [7, 8, 9]])\n",
    "col_means = np.nanmean(data, axis=0)\n",
    "inds = np.where(np.isnan(data))\n",
    "data[inds] = np.take(col_means, inds[1])\n",
    "print(data)\n",
    "\n"
   ]
  },
  {
   "cell_type": "code",
   "execution_count": 4,
   "id": "d3059190",
   "metadata": {},
   "outputs": [
    {
     "name": "stdout",
     "output_type": "stream",
     "text": [
      "Max value is  9  and min value is  1\n",
      "Index of max value is  7  and min value is  2\n"
     ]
    }
   ],
   "source": [
    "#18. Get index of min and max values.\n",
    "import numpy as np\n",
    "cr = np.array([(2,3,1),\n",
    "               (4,5,6),\n",
    "               (7,9,8)])\n",
    "max , min = cr.max() , cr.min()\n",
    "print(\"Max value is \" , max , \" and min value is \",min)\n",
    "max_args , min_args = cr.argmax() , cr.argmin()\n",
    "print(\"Index of max value is \" , max_args,\" and min value is \" , min_args)"
   ]
  },
  {
   "cell_type": "code",
   "execution_count": 10,
   "id": "9b972b0a",
   "metadata": {},
   "outputs": [
    {
     "name": "stdout",
     "output_type": "stream",
     "text": [
      "[[[3 4 8 6]\n",
      "  [6 5 3 3]\n",
      "  [8 7 8 9]]\n",
      "\n",
      " [[2 2 7 5]\n",
      "  [7 5 9 9]\n",
      "  [7 0 2 1]]]\n"
     ]
    }
   ],
   "source": [
    "#19.Create a 3D array of random integers.\n",
    "import numpy as np\n",
    "array_3d = np.random.randint(0, 10, size=(2, 3, 4))\n",
    "print(array_3d)"
   ]
  },
  {
   "cell_type": "code",
   "execution_count": 12,
   "id": "610a216e",
   "metadata": {},
   "outputs": [
    {
     "name": "stdout",
     "output_type": "stream",
     "text": [
      "['odd' 'even' 'odd' 'even' 'odd']\n"
     ]
    }
   ],
   "source": [
    "#20. Use np.where() to replace values\n",
    "import numpy as np\n",
    "arr = np.array([1, 2, 3, 4, 5])\n",
    "x = np.where(arr % 2 == 0, 'even', 'odd')\n",
    "print(x)\n"
   ]
  },
  {
   "cell_type": "markdown",
   "id": "b5e681e8",
   "metadata": {},
   "source": [
    "Pandas "
   ]
  },
  {
   "cell_type": "code",
   "execution_count": 13,
   "id": "3b015b21",
   "metadata": {},
   "outputs": [
    {
     "name": "stdout",
     "output_type": "stream",
     "text": [
      "0    12\n",
      "1    23\n",
      "2    34\n",
      "dtype: int64\n"
     ]
    }
   ],
   "source": [
    "#1. Create a Series using a Python list.\n",
    "import pandas as pd\n",
    "x = pd.Series([12,23,34])\n",
    "print(x)"
   ]
  },
  {
   "cell_type": "code",
   "execution_count": 16,
   "id": "8d1db408",
   "metadata": {},
   "outputs": [
    {
     "name": "stdout",
     "output_type": "stream",
     "text": [
      "One       Apple\n",
      "Two      Banana\n",
      "Three     Chiku\n",
      "dtype: object\n"
     ]
    }
   ],
   "source": [
    "#2. Create a Series with custom string indices.\n",
    "import pandas as pd\n",
    "x = pd.Series([\"Apple\",\"Banana\",\"Chiku\"],index=['One','Two','Three'])\n",
    "print(x)"
   ]
  },
  {
   "cell_type": "code",
   "execution_count": 19,
   "id": "5a720043",
   "metadata": {},
   "outputs": [
    {
     "name": "stdout",
     "output_type": "stream",
     "text": [
      "Math         [Trigonometry, Calculus]\n",
      "Chemistry        [Organic, Inorganic]\n",
      "dtype: object\n"
     ]
    }
   ],
   "source": [
    "#3. Create a Series from a dictionary.\n",
    "import pandas as pd\n",
    "x = pd.Series({\"Math\":[\"Trigonometry\",\"Calculus\"],\"Chemistry\":[\"Organic\",\"Inorganic\"]})\n",
    "print(x)"
   ]
  },
  {
   "cell_type": "code",
   "execution_count": 24,
   "id": "85cbe09b",
   "metadata": {},
   "outputs": [
    {
     "name": "stdout",
     "output_type": "stream",
     "text": [
      "0    44\n",
      "1    55\n",
      "2    66\n",
      "dtype: int64\n"
     ]
    }
   ],
   "source": [
    "#4. Access first 3 elements of a Series.\n",
    "import pandas as pd\n",
    "x = pd.Series([44,55,66,77,88,99])\n",
    "print(x[0:3])"
   ]
  },
  {
   "cell_type": "code",
   "execution_count": 27,
   "id": "18d176b9",
   "metadata": {},
   "outputs": [
    {
     "name": "stdout",
     "output_type": "stream",
     "text": [
      "3    66\n",
      "4    77\n",
      "5    88\n",
      "6    99\n",
      "dtype: int64\n"
     ]
    }
   ],
   "source": [
    "#5. Filter Series elements greater than 50.\n",
    "import pandas as pd\n",
    "x = pd.Series([11,22,33,66,77,88,99])\n",
    "print(x[x>50])"
   ]
  },
  {
   "cell_type": "code",
   "execution_count": 34,
   "id": "1fd16cfc",
   "metadata": {},
   "outputs": [
    {
     "name": "stdout",
     "output_type": "stream",
     "text": [
      "0     1.0\n",
      "1     2.0\n",
      "2     9.0\n",
      "3    11.0\n",
      "4    13.0\n",
      "5     9.0\n",
      "6    10.0\n",
      "dtype: float64\n"
     ]
    }
   ],
   "source": [
    "#6. Add two Series with different indices.\n",
    "import pandas as pd\n",
    "x = pd.Series([1, 2, 3, 4, 5], index=[0, 1, 2, 3, 4])\n",
    "y = pd.Series([6, 7, 8, 9, 10], index=[2, 3, 4, 5, 6])\n",
    "result = x.add(y, fill_value=0)\n",
    "print(result)\n"
   ]
  },
  {
   "cell_type": "code",
   "execution_count": 35,
   "id": "4cc65707",
   "metadata": {},
   "outputs": [
    {
     "name": "stdout",
     "output_type": "stream",
     "text": [
      "0     22\n",
      "1     44\n",
      "2     66\n",
      "3     88\n",
      "4    110\n",
      "dtype: int64\n"
     ]
    }
   ],
   "source": [
    "#7. Multiply a Series by a scalar.\n",
    "import pandas as pd\n",
    "x = pd.Series([11,22,33,44,55])\n",
    "print(x*2)"
   ]
  },
  {
   "cell_type": "code",
   "execution_count": 36,
   "id": "1299044f",
   "metadata": {},
   "outputs": [
    {
     "name": "stdout",
     "output_type": "stream",
     "text": [
      "0     33\n",
      "1     66\n",
      "2     99\n",
      "3    132\n",
      "4    165\n",
      "dtype: int64\n"
     ]
    }
   ],
   "source": [
    "#8. Use .multiply() method to multiply with scalar.\n",
    "import pandas as pd\n",
    "x = pd.Series([11,22,33,44,55])\n",
    "print(x.multiply(3))"
   ]
  },
  {
   "cell_type": "code",
   "execution_count": 42,
   "id": "19f8b994",
   "metadata": {},
   "outputs": [
    {
     "name": "stdout",
     "output_type": "stream",
     "text": [
      "4    55\n",
      "3    44\n",
      "1    22\n",
      "2    21\n",
      "0    11\n",
      "dtype: int64\n"
     ]
    }
   ],
   "source": [
    "#10. Sort Series by values descending.\n",
    "import pandas as pd\n",
    "x = pd.Series([11,22,21,44,55])\n",
    "print(x.sort_values(ascending=False))"
   ]
  },
  {
   "cell_type": "code",
   "execution_count": 43,
   "id": "8c065ca8",
   "metadata": {},
   "outputs": [
    {
     "name": "stdout",
     "output_type": "stream",
     "text": [
      "0    44\n",
      "1    22\n",
      "2    55\n",
      "3    11\n",
      "4    33\n",
      "dtype: int64\n"
     ]
    }
   ],
   "source": [
    "#11. Sort Series by index.\n",
    "import pandas as pd\n",
    "x = pd.Series([11, 22, 33, 44, 55], index=[3, 1, 4, 0, 2])\n",
    "print(x.sort_index())"
   ]
  },
  {
   "cell_type": "code",
   "execution_count": 47,
   "id": "356f0e51",
   "metadata": {},
   "outputs": [
    {
     "name": "stdout",
     "output_type": "stream",
     "text": [
      "0    False\n",
      "1     True\n",
      "2    False\n",
      "3    False\n",
      "4     True\n",
      "dtype: bool\n"
     ]
    }
   ],
   "source": [
    "#12. Check for null values.\n",
    "import pandas as pd\n",
    "import numpy as np\n",
    "x = pd.Series([12,np.nan,67,88,np.nan])\n",
    "print(x.isna())"
   ]
  },
  {
   "cell_type": "code",
   "execution_count": 51,
   "id": "242cbedd",
   "metadata": {},
   "outputs": [
    {
     "name": "stdout",
     "output_type": "stream",
     "text": [
      "0     1\n",
      "1     2\n",
      "2     3\n",
      "3     4\n",
      "4     5\n",
      "0     6\n",
      "1     7\n",
      "2     8\n",
      "3     9\n",
      "4    10\n",
      "dtype: int64\n"
     ]
    }
   ],
   "source": [
    "#14. Concatenate two Series using concat().\n",
    "import pandas as pd\n",
    "x = pd.Series([1,2,3,4,5])\n",
    "y = pd.Series([6,7,8,9,10])\n",
    "print(pd.concat([x,y]))"
   ]
  },
  {
   "cell_type": "code",
   "execution_count": 56,
   "id": "b1efff6e",
   "metadata": {},
   "outputs": [],
   "source": [
    "#15. Concatenate two Series using append().\n",
    "import pandas as pd\n",
    "x = pd.Series([1,2,3,4,5])\n",
    "y = pd.Series([6,7,8,9,10])\n",
    "# print(x.append(y))"
   ]
  },
  {
   "cell_type": "code",
   "execution_count": 57,
   "id": "a2ce0480",
   "metadata": {},
   "outputs": [
    {
     "name": "stdout",
     "output_type": "stream",
     "text": [
      "0    1\n",
      "1    2\n",
      "2    3\n",
      "3    4\n",
      "4    5\n",
      "dtype: int64\n"
     ]
    }
   ],
   "source": [
    "#16. Retrieve first 5 elements using .head()\n",
    "import pandas as pd\n",
    "x = pd.Series([1,2,3,4,5,6,7,8,9,10])\n",
    "print(x.head())"
   ]
  },
  {
   "cell_type": "code",
   "execution_count": 58,
   "id": "3571e3de",
   "metadata": {},
   "outputs": [
    {
     "name": "stdout",
     "output_type": "stream",
     "text": [
      "5     6\n",
      "6     7\n",
      "7     8\n",
      "8     9\n",
      "9    10\n",
      "dtype: int64\n"
     ]
    }
   ],
   "source": [
    "#17. Retrieve last 5 elements using .tail()\n",
    "import pandas as pd\n",
    "x = pd.Series([1,2,3,4,5,6,7,8,9,10])\n",
    "print(x.tail())"
   ]
  },
  {
   "cell_type": "code",
   "execution_count": 64,
   "id": "910d9732",
   "metadata": {},
   "outputs": [
    {
     "name": "stdout",
     "output_type": "stream",
     "text": [
      "   Numbers\n",
      "0        1\n",
      "1        2\n",
      "2        3\n",
      "3        4\n",
      "4        5\n",
      "5        6\n",
      "6        7\n",
      "7        8\n",
      "8        9\n",
      "9       10\n"
     ]
    }
   ],
   "source": [
    "#18. Convert Series to DataFrame.\n",
    "import pandas as pd\n",
    "x = pd.Series([1,2,3,4,5,6,7,8,9,10])\n",
    "print(pd.DataFrame(x,columns=[\"Numbers\"]))"
   ]
  },
  {
   "cell_type": "code",
   "execution_count": null,
   "id": "fe1bff6d",
   "metadata": {},
   "outputs": [
    {
     "name": "stdout",
     "output_type": "stream",
     "text": [
      "0    12.0\n",
      "1     0.0\n",
      "2    67.0\n",
      "3    88.0\n",
      "4     0.0\n",
      "dtype: float64\n"
     ]
    }
   ],
   "source": [
    "# 19. Replace NaN with 0.\n",
    "import numpy as np\n",
    "import pandas as pd\n",
    "x = pd.Series([12,np.nan,67,88,np.nan])\n",
    "print(x.replace(np.nan,0))"
   ]
  },
  {
   "cell_type": "code",
   "execution_count": 73,
   "id": "1d21ab4f",
   "metadata": {},
   "outputs": [
    {
     "name": "stdout",
     "output_type": "stream",
     "text": [
      "     A    B\n",
      "1  2.0  6.0\n",
      "3  4.0  8.0\n"
     ]
    }
   ],
   "source": [
    "#20. Drop missing values.\n",
    "import pandas as pd\n",
    "import numpy as np\n",
    "df = pd.DataFrame({\n",
    "    'A': [1, 2, np.nan, 4],\n",
    "    'B': [np.nan, 6, 7, 8]\n",
    "})\n",
    "print(df.dropna())"
   ]
  },
  {
   "cell_type": "code",
   "execution_count": 75,
   "id": "659e9f4f",
   "metadata": {},
   "outputs": [
    {
     "name": "stdout",
     "output_type": "stream",
     "text": [
      "int64\n"
     ]
    }
   ],
   "source": [
    "#21. Check Series data type.\n",
    "import pandas as pd\n",
    "x = pd.Series([1,2,3,4,5,6,7,8,9,10])\n",
    "print(x.dtype)"
   ]
  }
 ],
 "metadata": {
  "kernelspec": {
   "display_name": ".Swayansu",
   "language": "python",
   "name": "python3"
  },
  "language_info": {
   "codemirror_mode": {
    "name": "ipython",
    "version": 3
   },
   "file_extension": ".py",
   "mimetype": "text/x-python",
   "name": "python",
   "nbconvert_exporter": "python",
   "pygments_lexer": "ipython3",
   "version": "3.13.1"
  }
 },
 "nbformat": 4,
 "nbformat_minor": 5
}
